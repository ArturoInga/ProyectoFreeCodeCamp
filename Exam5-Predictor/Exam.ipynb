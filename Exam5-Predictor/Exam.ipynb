{
 "cells": [
  {
   "cell_type": "code",
   "execution_count": 3,
   "metadata": {},
   "outputs": [],
   "source": [
    "import pandas as pd\n",
    "import matplotlib.pyplot as plt\n",
    "from scipy.stats import linregress"
   ]
  },
  {
   "cell_type": "markdown",
   "metadata": {},
   "source": [
    "You will analyze a dataset of the global average sea level change since 1880. You will use the data to predict the sea level change through year 2050.\n",
    "\n",
    "Use the data to complete the following tasks:\n",
    "\n",
    "Use Pandas to import the data from epa-sea-level.csv.\n",
    "\n",
    "Use matplotlib to create a scatter plot using the Year column as the x-axis and the CSIRO Adjusted Sea Level column as the y-axis.\n",
    "\n",
    "Use the linregress function from scipy.stats to get the slope and y-intercept of the line of best fit. Plot the line of best fit over the top of the scatter plot. Make the line go through the year 2050 to predict the sea level rise in 2050.\n",
    "\n",
    "Plot a new line of best fit just using the data from year 2000 through the most recent year in the dataset. Make the line also go through the year 2050 to predict the sea level rise in 2050 if the rate of rise continues as it has since the year 2000.\n",
    "\n",
    "The x label should be Year, the y label should be Sea Level (inches), and the title should be Rise in Sea Level.\n",
    "\n",
    "The boilerplate also includes commands to save and return the image."
   ]
  },
  {
   "cell_type": "code",
   "execution_count": null,
   "metadata": {},
   "outputs": [],
   "source": [
    "import pandas as pd\n",
    "import matplotlib.pyplot as plt\n",
    "from scipy.stats import linregress\n",
    "import numpy as np\n",
    "\n",
    "def draw_plot():\n",
    "    # Read data from file\n",
    "    df = pd.read_csv('epa-sea-level.csv')\n",
    "    # Create scatter plot\n",
    "    plt.scatter(df['Year'], df['CSIRO Adjusted Sea Level'])\n",
    "\n",
    "    # Create first line of best fit\n",
    "    lineA = linregress(df['Year'], df['CSIRO Adjusted Sea Level'])\n",
    "    xA = np.arange(df['Year'].min(),2051,1)\n",
    "    yA = xA*lineA.slope + lineA.intercept\n",
    "    plt.plot(xA,yA)\n",
    "    # Create second line of best fit\n",
    "    df_2000 = df[df['Year'] >= 2000]\n",
    "    lineB = linregress(df_2000['Year'], df_2000['CSIRO Adjusted Sea Level'])\n",
    "    xB = np.arange(2000,2051,1)\n",
    "    yB = xB*lineB.slope + lineB.intercept\n",
    "\n",
    "    plt.plot(xB,yB)\n",
    "    # Add labels and title\n",
    "    plt.xlabel('Year')\n",
    "    plt.ylabel('Sea Level (inches)')\n",
    "    plt.title('Rise in Sea Level')\n",
    "    \n",
    "    \n",
    "    # Save plot and return data for testing (DO NOT MODIFY)\n",
    "    plt.savefig('sea_level_plot.png')\n",
    "    return plt.gca()"
   ]
  }
 ],
 "metadata": {
  "kernelspec": {
   "display_name": "Python 3",
   "language": "python",
   "name": "python3"
  },
  "language_info": {
   "codemirror_mode": {
    "name": "ipython",
    "version": 3
   },
   "file_extension": ".py",
   "mimetype": "text/x-python",
   "name": "python",
   "nbconvert_exporter": "python",
   "pygments_lexer": "ipython3",
   "version": "3.12.4"
  }
 },
 "nbformat": 4,
 "nbformat_minor": 2
}
